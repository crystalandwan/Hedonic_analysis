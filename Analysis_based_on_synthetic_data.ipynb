{
 "cells": [
  {
   "cell_type": "code",
   "execution_count": 1,
   "id": "bd14b219",
   "metadata": {},
   "outputs": [],
   "source": [
    "import pandas as pd\n",
    "import numpy as np\n",
    "import matplotlib.pyplot as plt\n",
    "from SALib.sample import saltelli\n",
    "from SALib.analyze import sobol\n",
    "import tensorflow as tf\n",
    "import random\n",
    "import pickle\n",
    "from multiprocessing import Pool, cpu_count"
   ]
  },
  {
   "cell_type": "code",
   "execution_count": 2,
   "id": "4e7efdea",
   "metadata": {},
   "outputs": [],
   "source": [
    "np.random.seed(4)"
   ]
  },
  {
   "cell_type": "code",
   "execution_count": 3,
   "id": "07360a35",
   "metadata": {},
   "outputs": [],
   "source": [
    "# Set the working path and read in housing transactions data\n",
    "path = r'C:\\Users\\wanh535\\OneDrive - PNNL\\Desktop\\ICoM data\\Historic Housing Prices\\Static Multiple Linear Regression\\\\'\n",
    "prices = pd.read_csv(path + 'synthetic_housing_data_CTGAN_all.csv')"
   ]
  },
  {
   "cell_type": "code",
   "execution_count": 9,
   "id": "8fad6084",
   "metadata": {},
   "outputs": [
    {
     "data": {
      "text/html": [
       "<div>\n",
       "<style scoped>\n",
       "    .dataframe tbody tr th:only-of-type {\n",
       "        vertical-align: middle;\n",
       "    }\n",
       "\n",
       "    .dataframe tbody tr th {\n",
       "        vertical-align: top;\n",
       "    }\n",
       "\n",
       "    .dataframe thead th {\n",
       "        text-align: right;\n",
       "    }\n",
       "</style>\n",
       "<table border=\"1\" class=\"dataframe\">\n",
       "  <thead>\n",
       "    <tr style=\"text-align: right;\">\n",
       "      <th></th>\n",
       "      <th>SalesPriceAmount</th>\n",
       "      <th>Area</th>\n",
       "      <th>Age</th>\n",
       "      <th>Stories</th>\n",
       "      <th>Baths</th>\n",
       "      <th>LotSize</th>\n",
       "      <th>CenterDist</th>\n",
       "      <th>Years</th>\n",
       "    </tr>\n",
       "  </thead>\n",
       "  <tbody>\n",
       "    <tr>\n",
       "      <th>count</th>\n",
       "      <td>482629.0</td>\n",
       "      <td>482629.0</td>\n",
       "      <td>482629.0</td>\n",
       "      <td>482629.0</td>\n",
       "      <td>482629.0</td>\n",
       "      <td>482629.0</td>\n",
       "      <td>482629.0</td>\n",
       "      <td>482629.0</td>\n",
       "    </tr>\n",
       "    <tr>\n",
       "      <th>mean</th>\n",
       "      <td>285515.6</td>\n",
       "      <td>2154.3</td>\n",
       "      <td>30.6</td>\n",
       "      <td>1.7</td>\n",
       "      <td>2.1</td>\n",
       "      <td>23496.3</td>\n",
       "      <td>24562.4</td>\n",
       "      <td>15.1</td>\n",
       "    </tr>\n",
       "    <tr>\n",
       "      <th>std</th>\n",
       "      <td>217872.0</td>\n",
       "      <td>1011.6</td>\n",
       "      <td>28.2</td>\n",
       "      <td>0.4</td>\n",
       "      <td>0.8</td>\n",
       "      <td>33680.0</td>\n",
       "      <td>14235.5</td>\n",
       "      <td>6.2</td>\n",
       "    </tr>\n",
       "    <tr>\n",
       "      <th>min</th>\n",
       "      <td>10000.0</td>\n",
       "      <td>423.0</td>\n",
       "      <td>0.0</td>\n",
       "      <td>1.0</td>\n",
       "      <td>1.0</td>\n",
       "      <td>435.0</td>\n",
       "      <td>2426.6</td>\n",
       "      <td>3.0</td>\n",
       "    </tr>\n",
       "    <tr>\n",
       "      <th>25%</th>\n",
       "      <td>143631.0</td>\n",
       "      <td>1442.0</td>\n",
       "      <td>0.0</td>\n",
       "      <td>1.5</td>\n",
       "      <td>2.0</td>\n",
       "      <td>7021.6</td>\n",
       "      <td>13250.7</td>\n",
       "      <td>10.0</td>\n",
       "    </tr>\n",
       "    <tr>\n",
       "      <th>50%</th>\n",
       "      <td>225849.0</td>\n",
       "      <td>1881.0</td>\n",
       "      <td>28.0</td>\n",
       "      <td>2.0</td>\n",
       "      <td>2.0</td>\n",
       "      <td>10210.1</td>\n",
       "      <td>20676.8</td>\n",
       "      <td>15.0</td>\n",
       "    </tr>\n",
       "    <tr>\n",
       "      <th>75%</th>\n",
       "      <td>354938.0</td>\n",
       "      <td>2508.0</td>\n",
       "      <td>51.0</td>\n",
       "      <td>2.0</td>\n",
       "      <td>3.0</td>\n",
       "      <td>24696.8</td>\n",
       "      <td>35931.6</td>\n",
       "      <td>19.0</td>\n",
       "    </tr>\n",
       "    <tr>\n",
       "      <th>max</th>\n",
       "      <td>1700169.0</td>\n",
       "      <td>8461.0</td>\n",
       "      <td>222.0</td>\n",
       "      <td>2.5</td>\n",
       "      <td>5.0</td>\n",
       "      <td>249773.0</td>\n",
       "      <td>71176.4</td>\n",
       "      <td>29.0</td>\n",
       "    </tr>\n",
       "  </tbody>\n",
       "</table>\n",
       "</div>"
      ],
      "text/plain": [
       "       SalesPriceAmount     Area      Age  Stories    Baths  LotSize  \\\n",
       "count          482629.0 482629.0 482629.0 482629.0 482629.0 482629.0   \n",
       "mean           285515.6   2154.3     30.6      1.7      2.1  23496.3   \n",
       "std            217872.0   1011.6     28.2      0.4      0.8  33680.0   \n",
       "min             10000.0    423.0      0.0      1.0      1.0    435.0   \n",
       "25%            143631.0   1442.0      0.0      1.5      2.0   7021.6   \n",
       "50%            225849.0   1881.0     28.0      2.0      2.0  10210.1   \n",
       "75%            354938.0   2508.0     51.0      2.0      3.0  24696.8   \n",
       "max           1700169.0   8461.0    222.0      2.5      5.0 249773.0   \n",
       "\n",
       "       CenterDist    Years  \n",
       "count    482629.0 482629.0  \n",
       "mean      24562.4     15.1  \n",
       "std       14235.5      6.2  \n",
       "min        2426.6      3.0  \n",
       "25%       13250.7     10.0  \n",
       "50%       20676.8     15.0  \n",
       "75%       35931.6     19.0  \n",
       "max       71176.4     29.0  "
      ]
     },
     "execution_count": 9,
     "metadata": {},
     "output_type": "execute_result"
    }
   ],
   "source": [
    "pd.set_option('display.float_format', lambda x: '%.1f' % x)\n",
    "prices.describe()"
   ]
  },
  {
   "cell_type": "code",
   "execution_count": 17,
   "id": "2f2c963a",
   "metadata": {},
   "outputs": [],
   "source": [
    "# Obtain response variable and predictors\n",
    "predictors = prices.drop(['SalesPriceAmount'], axis = 1)\n",
    "Y = prices['SalesPriceAmount']\n",
    "\n",
    "X = np.array(predictors)\n",
    "Y = np.array(Y)"
   ]
  },
  {
   "cell_type": "code",
   "execution_count": 20,
   "id": "1497ba63",
   "metadata": {},
   "outputs": [],
   "source": [
    "# Split dataset into training and testing sets\n",
    "from sklearn.model_selection import train_test_split\n",
    "X_train, X_test, Y_train, Y_test = train_test_split(X, Y, test_size=0.2, random_state=42)"
   ]
  },
  {
   "cell_type": "code",
   "execution_count": 21,
   "id": "a016d3df",
   "metadata": {},
   "outputs": [],
   "source": [
    "# Sdandarize the variables\n",
    "from sklearn.preprocessing import StandardScaler\n",
    "sc_x = StandardScaler()\n",
    "X_train = sc_x.fit_transform(X_train)\n",
    "X_test = sc_x.transform(X_test)\n",
    "\n",
    "sc_y = StandardScaler()\n",
    "Y_train = sc_y.fit_transform(Y_train.reshape(-1, 1)).ravel()\n",
    "Y_test = sc_y.transform(Y_test.reshape(-1, 1)).ravel()"
   ]
  },
  {
   "cell_type": "code",
   "execution_count": 22,
   "id": "9409e21a",
   "metadata": {},
   "outputs": [],
   "source": [
    "# Split the training set into training and validation sets\n",
    "from sklearn.model_selection import train_test_split\n",
    "x_train, x_val, y_train, y_val = train_test_split(X_train, Y_train, test_size=0.2, random_state=42)"
   ]
  },
  {
   "cell_type": "markdown",
   "id": "3e2bf3b4",
   "metadata": {},
   "source": [
    "# Grid search for ANN hyperparameters"
   ]
  },
  {
   "cell_type": "code",
   "execution_count": 23,
   "id": "26722fc8",
   "metadata": {},
   "outputs": [],
   "source": [
    "# Defining a function to find the best parameters for ANN\n",
    "def FunctionFindBestParams(x_train, y_train, x_val, y_val, x_test, y_test):\n",
    "    \n",
    "    # Defining the list of hyper parameters to try\n",
    "    batch_size_list=[16, 32, 64, 128]\n",
    "    learning_rate_list = [0.0001, 0.001, 0.1]\n",
    "    N_neuron1 = [16, 32, 64, 128, 256]\n",
    "    N_neuron2 = [16, 32, 64, 128, 256]\n",
    "    \n",
    "    import pandas as pd\n",
    "    SearchResultsData=pd.DataFrame(columns=['TrialNumber', 'Parameters', 'RMSE'])\n",
    "    \n",
    "    # initializing the trials\n",
    "    TrialNumber=0\n",
    "    for learning_rate in learning_rate_list:\n",
    "        for batch_size_trial in batch_size_list:\n",
    "            for number1 in N_neuron1:\n",
    "                for number2 in N_neuron2:\n",
    "                    TrialNumber+=1\n",
    "                    # create ANN model\n",
    "                    import tensorflow as tf\n",
    "                    model = tf.keras.models.Sequential()\n",
    "\n",
    "                    # Defining the first layer of the model\n",
    "                    model.add(tf.keras.layers.Dense(units=number1, activation='relu', input_dim=X.shape[1]))\n",
    "\n",
    "                    # Defining the Second layer of the model\n",
    "                    model.add(tf.keras.layers.Dense(units=number2, activation='relu'))\n",
    "\n",
    "                    # The output neuron is a single fully connected node \n",
    "                    # Since we will be predicting a single number\n",
    "                    model.add(tf.keras.layers.Dense(units=1, activation='linear'))\n",
    "\n",
    "                    # Compiling the model\n",
    "                    optimizer = tf.keras.optimizers.Adam(learning_rate=learning_rate)\n",
    "                    model.compile(loss='mean_squared_error', optimizer=optimizer)\n",
    "            \n",
    "                    from keras.callbacks import EarlyStopping\n",
    "                    early_stopping = EarlyStopping(monitor='val_loss', patience=5)\n",
    "\n",
    "                    # Fitting the ANN to the Training set\n",
    "                    model.fit(x_train, y_train, validation_data=(x_val, y_val), epochs=50, \n",
    "                              batch_size=batch_size_trial, callbacks=[early_stopping], verbose = 0)\n",
    "            \n",
    "                    from sklearn.metrics import mean_squared_error\n",
    "                    rmse = np.sqrt(mean_squared_error(model.predict(x_test), Y_test))\n",
    "            \n",
    "                    # printing the results of the current iteration\n",
    "                    print(TrialNumber, 'Parameters:','learning_rate', learning_rate, '-', 'batch_size:', \n",
    "                          batch_size_trial,'-', 'N_neurons1:',number1, 'N_neurons1', number2, 'RMSE:', rmse)\n",
    "            \n",
    "                    SearchResultsData=SearchResultsData.append(pd.DataFrame(\n",
    "                        data=[[TrialNumber, str(learning_rate)+'-'+str(batch_size_trial)+'-'+str(number1)+'-'+\n",
    "                               str(number2), rmse]],columns=['TrialNumber', 'Parameters', 'RMSE']))\n",
    "                \n",
    "    return(SearchResultsData)\n"
   ]
  },
  {
   "cell_type": "markdown",
   "id": "67c037fd",
   "metadata": {},
   "source": [
    "# ANN model"
   ]
  },
  {
   "cell_type": "code",
   "execution_count": 24,
   "id": "e5859fab",
   "metadata": {},
   "outputs": [
    {
     "name": "stdout",
     "output_type": "stream",
     "text": [
      "2.18.0\n"
     ]
    },
    {
     "name": "stderr",
     "output_type": "stream",
     "text": [
      "C:\\Users\\wanh535\\AppData\\Local\\anaconda3\\envs\\spatial_python\\Lib\\site-packages\\keras\\src\\layers\\core\\dense.py:87: UserWarning: Do not pass an `input_shape`/`input_dim` argument to a layer. When using Sequential models, prefer using an `Input(shape)` object as the first layer in the model instead.\n",
      "  super().__init__(activity_regularizer=activity_regularizer, **kwargs)\n"
     ]
    },
    {
     "data": {
      "text/html": [
       "<pre style=\"white-space:pre;overflow-x:auto;line-height:normal;font-family:Menlo,'DejaVu Sans Mono',consolas,'Courier New',monospace\"><span style=\"font-weight: bold\">Model: \"sequential\"</span>\n",
       "</pre>\n"
      ],
      "text/plain": [
       "\u001b[1mModel: \"sequential\"\u001b[0m\n"
      ]
     },
     "metadata": {},
     "output_type": "display_data"
    },
    {
     "data": {
      "text/html": [
       "<pre style=\"white-space:pre;overflow-x:auto;line-height:normal;font-family:Menlo,'DejaVu Sans Mono',consolas,'Courier New',monospace\">┏━━━━━━━━━━━━━━━━━━━━━━━━━━━━━━━━━━━━━━┳━━━━━━━━━━━━━━━━━━━━━━━━━━━━━┳━━━━━━━━━━━━━━━━━┓\n",
       "┃<span style=\"font-weight: bold\"> Layer (type)                         </span>┃<span style=\"font-weight: bold\"> Output Shape                </span>┃<span style=\"font-weight: bold\">         Param # </span>┃\n",
       "┡━━━━━━━━━━━━━━━━━━━━━━━━━━━━━━━━━━━━━━╇━━━━━━━━━━━━━━━━━━━━━━━━━━━━━╇━━━━━━━━━━━━━━━━━┩\n",
       "│ dense (<span style=\"color: #0087ff; text-decoration-color: #0087ff\">Dense</span>)                        │ (<span style=\"color: #00d7ff; text-decoration-color: #00d7ff\">None</span>, <span style=\"color: #00af00; text-decoration-color: #00af00\">128</span>)                 │           <span style=\"color: #00af00; text-decoration-color: #00af00\">1,024</span> │\n",
       "├──────────────────────────────────────┼─────────────────────────────┼─────────────────┤\n",
       "│ dense_1 (<span style=\"color: #0087ff; text-decoration-color: #0087ff\">Dense</span>)                      │ (<span style=\"color: #00d7ff; text-decoration-color: #00d7ff\">None</span>, <span style=\"color: #00af00; text-decoration-color: #00af00\">128</span>)                 │          <span style=\"color: #00af00; text-decoration-color: #00af00\">16,512</span> │\n",
       "├──────────────────────────────────────┼─────────────────────────────┼─────────────────┤\n",
       "│ dense_2 (<span style=\"color: #0087ff; text-decoration-color: #0087ff\">Dense</span>)                      │ (<span style=\"color: #00d7ff; text-decoration-color: #00d7ff\">None</span>, <span style=\"color: #00af00; text-decoration-color: #00af00\">1</span>)                   │             <span style=\"color: #00af00; text-decoration-color: #00af00\">129</span> │\n",
       "└──────────────────────────────────────┴─────────────────────────────┴─────────────────┘\n",
       "</pre>\n"
      ],
      "text/plain": [
       "┏━━━━━━━━━━━━━━━━━━━━━━━━━━━━━━━━━━━━━━┳━━━━━━━━━━━━━━━━━━━━━━━━━━━━━┳━━━━━━━━━━━━━━━━━┓\n",
       "┃\u001b[1m \u001b[0m\u001b[1mLayer (type)                        \u001b[0m\u001b[1m \u001b[0m┃\u001b[1m \u001b[0m\u001b[1mOutput Shape               \u001b[0m\u001b[1m \u001b[0m┃\u001b[1m \u001b[0m\u001b[1m        Param #\u001b[0m\u001b[1m \u001b[0m┃\n",
       "┡━━━━━━━━━━━━━━━━━━━━━━━━━━━━━━━━━━━━━━╇━━━━━━━━━━━━━━━━━━━━━━━━━━━━━╇━━━━━━━━━━━━━━━━━┩\n",
       "│ dense (\u001b[38;5;33mDense\u001b[0m)                        │ (\u001b[38;5;45mNone\u001b[0m, \u001b[38;5;34m128\u001b[0m)                 │           \u001b[38;5;34m1,024\u001b[0m │\n",
       "├──────────────────────────────────────┼─────────────────────────────┼─────────────────┤\n",
       "│ dense_1 (\u001b[38;5;33mDense\u001b[0m)                      │ (\u001b[38;5;45mNone\u001b[0m, \u001b[38;5;34m128\u001b[0m)                 │          \u001b[38;5;34m16,512\u001b[0m │\n",
       "├──────────────────────────────────────┼─────────────────────────────┼─────────────────┤\n",
       "│ dense_2 (\u001b[38;5;33mDense\u001b[0m)                      │ (\u001b[38;5;45mNone\u001b[0m, \u001b[38;5;34m1\u001b[0m)                   │             \u001b[38;5;34m129\u001b[0m │\n",
       "└──────────────────────────────────────┴─────────────────────────────┴─────────────────┘\n"
      ]
     },
     "metadata": {},
     "output_type": "display_data"
    },
    {
     "data": {
      "text/html": [
       "<pre style=\"white-space:pre;overflow-x:auto;line-height:normal;font-family:Menlo,'DejaVu Sans Mono',consolas,'Courier New',monospace\"><span style=\"font-weight: bold\"> Total params: </span><span style=\"color: #00af00; text-decoration-color: #00af00\">17,665</span> (69.00 KB)\n",
       "</pre>\n"
      ],
      "text/plain": [
       "\u001b[1m Total params: \u001b[0m\u001b[38;5;34m17,665\u001b[0m (69.00 KB)\n"
      ]
     },
     "metadata": {},
     "output_type": "display_data"
    },
    {
     "data": {
      "text/html": [
       "<pre style=\"white-space:pre;overflow-x:auto;line-height:normal;font-family:Menlo,'DejaVu Sans Mono',consolas,'Courier New',monospace\"><span style=\"font-weight: bold\"> Trainable params: </span><span style=\"color: #00af00; text-decoration-color: #00af00\">17,665</span> (69.00 KB)\n",
       "</pre>\n"
      ],
      "text/plain": [
       "\u001b[1m Trainable params: \u001b[0m\u001b[38;5;34m17,665\u001b[0m (69.00 KB)\n"
      ]
     },
     "metadata": {},
     "output_type": "display_data"
    },
    {
     "data": {
      "text/html": [
       "<pre style=\"white-space:pre;overflow-x:auto;line-height:normal;font-family:Menlo,'DejaVu Sans Mono',consolas,'Courier New',monospace\"><span style=\"font-weight: bold\"> Non-trainable params: </span><span style=\"color: #00af00; text-decoration-color: #00af00\">0</span> (0.00 B)\n",
       "</pre>\n"
      ],
      "text/plain": [
       "\u001b[1m Non-trainable params: \u001b[0m\u001b[38;5;34m0\u001b[0m (0.00 B)\n"
      ]
     },
     "metadata": {},
     "output_type": "display_data"
    }
   ],
   "source": [
    "print(tf.__version__)\n",
    "\n",
    "tf.random.set_seed(1)\n",
    "random.seed(1)\n",
    "model1=tf.keras.models.Sequential()\n",
    "model1.add(tf.keras.layers.Dense(units=128, activation='relu', input_dim=X.shape[1]))\n",
    "model1.add(tf.keras.layers.Dense(units=128, activation='relu'))\n",
    "model1.add(tf.keras.layers.Dense(units=1, activation='linear'))\n",
    "#compile the model\n",
    "model1.compile(optimizer='adam', loss='mean_squared_error')\n",
    "model1.summary()\n",
    "\n",
    "tf.random.set_seed(2)\n",
    "random.seed(2)\n",
    "model2=tf.keras.models.Sequential()\n",
    "model2.add(tf.keras.layers.Dense(units=128, activation='relu', input_dim=X.shape[1]))\n",
    "model2.add(tf.keras.layers.Dense(units=128, activation='relu'))\n",
    "model2.add(tf.keras.layers.Dense(units=1, activation='linear'))\n",
    "#compile the model\n",
    "model2.compile(optimizer='adam', loss='mean_squared_error')\n",
    "\n",
    "tf.random.set_seed(3)\n",
    "random.seed(3)\n",
    "model3=tf.keras.models.Sequential()\n",
    "model3.add(tf.keras.layers.Dense(units=128, activation='relu', input_dim=X.shape[1]))\n",
    "model3.add(tf.keras.layers.Dense(units=128, activation='relu'))\n",
    "model3.add(tf.keras.layers.Dense(units=1, activation='linear'))\n",
    "#compile the model\n",
    "model3.compile(optimizer='adam', loss='mean_squared_error')\n",
    "\n",
    "tf.random.set_seed(4)\n",
    "random.seed(4)\n",
    "model4=tf.keras.models.Sequential()\n",
    "model4.add(tf.keras.layers.Dense(units=128, activation='relu', input_dim=X.shape[1]))\n",
    "model4.add(tf.keras.layers.Dense(units=128, activation='relu'))\n",
    "model4.add(tf.keras.layers.Dense(units=1, activation='linear'))\n",
    "#compile the model\n",
    "model4.compile(optimizer='adam', loss='mean_squared_error')\n",
    "\n",
    "tf.random.set_seed(5)\n",
    "random.seed(5)\n",
    "model5=tf.keras.models.Sequential()\n",
    "model5.add(tf.keras.layers.Dense(units=128, activation='relu', input_dim=X.shape[1]))\n",
    "model5.add(tf.keras.layers.Dense(units=128, activation='relu'))\n",
    "model5.add(tf.keras.layers.Dense(units=1, activation='linear'))\n",
    "#compile the model\n",
    "model5.compile(optimizer='adam', loss='mean_squared_error')\n"
   ]
  },
  {
   "cell_type": "code",
   "execution_count": 25,
   "id": "4dfe9822",
   "metadata": {},
   "outputs": [],
   "source": [
    "from keras.callbacks import EarlyStopping\n",
    "early_stopping = EarlyStopping(monitor='val_loss', patience=5)"
   ]
  },
  {
   "cell_type": "code",
   "execution_count": 26,
   "id": "64ff93e5",
   "metadata": {},
   "outputs": [],
   "source": [
    "history1 = model1.fit(x_train, y_train, validation_data=(x_val, y_val), epochs=50, batch_size=64, callbacks=[early_stopping], verbose = 0)\n",
    "history2 = model2.fit(x_train, y_train, validation_data=(x_val, y_val), epochs=50, batch_size=64, callbacks=[early_stopping], verbose = 0)\n",
    "history3 = model3.fit(x_train, y_train, validation_data=(x_val, y_val), epochs=50, batch_size=64, callbacks=[early_stopping], verbose = 0)\n",
    "history4 = model4.fit(x_train, y_train, validation_data=(x_val, y_val), epochs=50, batch_size=64, callbacks=[early_stopping], verbose = 0)\n",
    "history5 = model5.fit(x_train, y_train, validation_data=(x_val, y_val), epochs=50, batch_size=64, callbacks=[early_stopping], verbose = 0)\n"
   ]
  },
  {
   "cell_type": "code",
   "execution_count": 27,
   "id": "4b80a323",
   "metadata": {},
   "outputs": [
    {
     "data": {
      "image/png": "[encoded data removed]",
      "text/plain": [
       "<Figure size 640x480 with 1 Axes>"
      ]
     },
     "metadata": {},
     "output_type": "display_data"
    }
   ],
   "source": [
    "# Plot the accuracy vs. epochs\n",
    "plt.plot(history1.history['loss'])\n",
    "plt.plot(history1.history['val_loss'])\n",
    "plt.title('Model Accuracy')\n",
    "plt.xlabel('Epoch')\n",
    "plt.ylabel('Accuracy')\n",
    "plt.legend(['Train', 'Validation'], loc='upper left')\n",
    "plt.show()"
   ]
  },
  {
   "cell_type": "code",
   "execution_count": 28,
   "id": "5ba880de",
   "metadata": {},
   "outputs": [],
   "source": [
    "#Accuracy assessment function\n",
    "def accuracy_assessment(X_data, Y_data, model):\n",
    "    pred = model.predict(X_data)\n",
    "    from sklearn.metrics import mean_squared_error\n",
    "    print(\"Standardized RMSE is: \", np.sqrt(mean_squared_error(pred, Y_data.reshape(-1, 1))))\n",
    "    pred_inverse = sc_y.inverse_transform(pred)\n",
    "    #     pred_inverse[pred_inverse<10000] = 10000\n",
    "    Y_data_inverse = sc_y.inverse_transform(Y_data.reshape(-1, 1))\n",
    "    from sklearn.metrics import r2_score\n",
    "    r2 = r2_score(Y_data_inverse, pred_inverse)\n",
    "    print('R^2 is:', r2)\n",
    "    APE = 100*(abs(Y_data_inverse - pred_inverse)/Y_data_inverse)\n",
    "    print('MAPE is:', np.mean(APE), '%')\n",
    "    print('MdAPE is:', np.median(APE), '%')\n",
    "    print(\"Original RMSE is:\", np.sqrt(mean_squared_error(pred_inverse, Y_data_inverse)))\n",
    "    print(\"RMSE normalized by range is: \", 100 * np.sqrt(\n",
    "        mean_squared_error(pred_inverse, Y_data_inverse)) / (Y.max() - Y.min()), \"%\")\n",
    "    print(\"RMSE normalized by mean is: \", 100 * np.sqrt(\n",
    "        mean_squared_error(pred_inverse, Y_data_inverse)) / Y.mean(), \"%\")"
   ]
  },
  {
   "cell_type": "code",
   "execution_count": 29,
   "id": "0266d135",
   "metadata": {
    "scrolled": true
   },
   "outputs": [
    {
     "name": "stdout",
     "output_type": "stream",
     "text": [
      "\u001b[1m9653/9653\u001b[0m \u001b[32m━━━━━━━━━━━━━━━━━━━━\u001b[0m\u001b[37m\u001b[0m \u001b[1m16s\u001b[0m 2ms/step\n",
      "Standardized RMSE is:  0.6062138107888415\n",
      "R^2 is: 0.6320900327430391\n",
      "MAPE is: 43.17069468760615 %\n",
      "MdAPE is: 27.22943183795234 %\n",
      "Original RMSE is: 132030.5792572189\n",
      "RMSE normalized by range is:  7.811679143163724 %\n",
      "RMSE normalized by mean is:  46.24286026362248 %\n"
     ]
    }
   ],
   "source": [
    "accuracy_assessment(x_train, y_train, model1)"
   ]
  },
  {
   "cell_type": "code",
   "execution_count": 30,
   "id": "83dc121d",
   "metadata": {
    "scrolled": true
   },
   "outputs": [
    {
     "name": "stdout",
     "output_type": "stream",
     "text": [
      "\u001b[1m2414/2414\u001b[0m \u001b[32m━━━━━━━━━━━━━━━━━━━━\u001b[0m\u001b[37m\u001b[0m \u001b[1m3s\u001b[0m 1ms/step\n",
      "Standardized RMSE is:  0.6106220799026926\n",
      "R^2 is: 0.6288142083371389\n",
      "MAPE is: 43.349540188010394 %\n",
      "MdAPE is: 27.513329762175047 %\n",
      "Original RMSE is: 132990.6799375773\n",
      "RMSE normalized by range is:  7.8684841538081285 %\n",
      "RMSE normalized by mean is:  46.579129345001945 %\n"
     ]
    }
   ],
   "source": [
    "accuracy_assessment(x_val, y_val, model1)"
   ]
  },
  {
   "cell_type": "code",
   "execution_count": 31,
   "id": "df2917a7",
   "metadata": {},
   "outputs": [
    {
     "name": "stdout",
     "output_type": "stream",
     "text": [
      "\u001b[1m3017/3017\u001b[0m \u001b[32m━━━━━━━━━━━━━━━━━━━━\u001b[0m\u001b[37m\u001b[0m \u001b[1m4s\u001b[0m 1ms/step\n",
      "Standardized RMSE is:  0.6137205332051864\n",
      "R^2 is: 0.6246589714884108\n",
      "MAPE is: 43.074612423733754 %\n",
      "MdAPE is: 27.25606228177113 %\n",
      "Original RMSE is: 133665.50882633126\n",
      "RMSE normalized by range is:  7.9084108646136135 %\n",
      "RMSE normalized by mean is:  46.81548381818585 %\n"
     ]
    }
   ],
   "source": [
    "accuracy_assessment(X_test, Y_test, model1)"
   ]
  },
  {
   "cell_type": "code",
   "execution_count": 32,
   "id": "d1f013fe",
   "metadata": {},
   "outputs": [
    {
     "data": {
      "text/plain": [
       "['Area', 'Age', 'Stories', 'Baths', 'LotSize', 'CenterDist', 'Years']"
      ]
     },
     "execution_count": 32,
     "metadata": {},
     "output_type": "execute_result"
    }
   ],
   "source": [
    "col_names = predictors.columns.tolist()\n",
    "col_names"
   ]
  },
  {
   "cell_type": "code",
   "execution_count": 33,
   "id": "5cddbadf",
   "metadata": {},
   "outputs": [],
   "source": [
    "#Create a function for one-way Partial Dependence Plot\n",
    "from sklearn.inspection import partial_dependence\n",
    "def plot_2d(var):\n",
    "    index = col_names.index(var)\n",
    "    x_grid = np.zeros((50, len(col_names)))\n",
    "    x_grid[:, index] = np.linspace(X_train[:, index].min(), X_train[:, index].max(), 50)\n",
    "    \n",
    "    prediction = np.concatenate([model1.predict(x_grid), model2.predict(x_grid), model3.predict(x_grid), \n",
    "                                model4.predict(x_grid), model5.predict(x_grid)], axis = 1)\n",
    "    y_pred = np.mean(prediction, axis = 1)\n",
    "    y_pred = sc_y.inverse_transform(y_pred.reshape(-1, 1)).flatten()\n",
    "    x_grid = sc_x.inverse_transform(x_grid)\n",
    "    \n",
    "\n",
    "    fig = plt.figure(figsize=(8, 8))\n",
    "    ax = fig.add_subplot(111)\n",
    "    ax.plot(x_grid[:, index], y_pred)\n",
    "    ax.set_ylim([10000, 2000000])\n",
    "    ax.set_xlabel(f'{var}', fontsize = 25)\n",
    "    ax.set_ylabel('Sales Price', fontsize = 25)\n",
    "    \n",
    "    plt.xticks(fontsize=16) \n",
    "    plt.yticks(fontsize=16)\n",
    "    plt.subplots_adjust(left=0.2, right=0.96, bottom=0.1, top=0.98)\n",
    "    ax.ticklabel_format(style='plain', axis='y')\n",
    "    ax.get_yaxis().get_major_formatter().set_scientific(False)\n",
    "    plt.show()"
   ]
  },
  {
   "cell_type": "code",
   "execution_count": 62,
   "id": "4cdcceb9",
   "metadata": {},
   "outputs": [
    {
     "name": "stdout",
     "output_type": "stream",
     "text": [
      "\u001b[1m2/2\u001b[0m \u001b[32m━━━━━━━━━━━━━━━━━━━━\u001b[0m\u001b[37m\u001b[0m \u001b[1m0s\u001b[0m 33ms/step\n",
      "\u001b[1m2/2\u001b[0m \u001b[32m━━━━━━━━━━━━━━━━━━━━\u001b[0m\u001b[37m\u001b[0m \u001b[1m0s\u001b[0m 37ms/step\n",
      "\u001b[1m2/2\u001b[0m \u001b[32m━━━━━━━━━━━━━━━━━━━━\u001b[0m\u001b[37m\u001b[0m \u001b[1m0s\u001b[0m 32ms/step\n",
      "\u001b[1m2/2\u001b[0m \u001b[32m━━━━━━━━━━━━━━━━━━━━\u001b[0m\u001b[37m\u001b[0m \u001b[1m0s\u001b[0m 38ms/step\n",
      "\u001b[1m2/2\u001b[0m \u001b[32m━━━━━━━━━━━━━━━━━━━━\u001b[0m\u001b[37m\u001b[0m \u001b[1m0s\u001b[0m 29ms/step\n"
     ]
    }
   ],
   "source": [
    "# Plot the one-way partial dependence plot\n",
    "%matplotlib inline\n",
    "plot_2d(\"Baths\")"
   ]
  },
  {
   "cell_type": "code",
   "execution_count": 67,
   "id": "7da8ab64",
   "metadata": {},
   "outputs": [],
   "source": [
    "#Create a function for two-way Partial Dependence Plot\n",
    "from matplotlib.ticker import ScalarFormatter\n",
    "def plot_3d(var1, var2):\n",
    "    index1 = col_names.index(var1)\n",
    "    index2 = col_names.index(var2)\n",
    "    \n",
    "    x_grid = np.zeros((2500, len(col_names)))\n",
    "    fixed1_grid, fixed2_grid = np.meshgrid(np.linspace(X_train[:, index1].min(), X_train[:, index1].max(), 50), \n",
    "                                           np.linspace(X_train[:, index2].min(), X_train[:, index2].max(), 50))\n",
    "    x_grid[:, index1] = fixed1_grid.ravel()\n",
    "    x_grid[:, index2] = fixed2_grid.ravel()\n",
    "    \n",
    "    prediction = np.concatenate([model1.predict(x_grid), model2.predict(x_grid), model3.predict(x_grid), \n",
    "                                model4.predict(x_grid), model5.predict(x_grid)], axis = 1)\n",
    "    y_pred = np.mean(prediction, axis = 1)\n",
    "    y_pred =  sc_y.inverse_transform(y_pred.reshape(-1,1)).flatten()\n",
    "    y_pred = y_pred.reshape(fixed1_grid.shape)\n",
    "    \n",
    "    x_grid = sc_x.inverse_transform(x_grid)\n",
    "    fixed1_grid = x_grid[:, index1].reshape(50, 50)\n",
    "    fixed2_grid = x_grid[:, index2].reshape(50, 50)    \n",
    "\n",
    "    fig = plt.figure(figsize = (10, 10))\n",
    "    ax = fig.add_subplot(111, projection='3d')\n",
    "    ax.plot_surface(fixed1_grid, fixed2_grid, y_pred, cmap='coolwarm')\n",
    "    ax.set_xlabel(var1, fontsize = 25)\n",
    "    ax.xaxis.labelpad=30\n",
    "    ax.set_ylabel(var2, fontsize = 25)\n",
    "    ax.yaxis.labelpad=30\n",
    "    ax.set_zlabel('Housing Price', fontsize = 25)\n",
    "    \n",
    "    formatter = ScalarFormatter(useOffset=False, useMathText=False)\n",
    "    ax.zaxis.set_major_formatter(formatter)\n",
    "    \n",
    "    ax.zaxis.set_tick_params(pad = 15, direction = \"out\")\n",
    "    ax.zaxis.labelpad=35\n",
    "    \n",
    "    ax.tick_params(axis='x', labelsize=16)\n",
    "    ax.tick_params(axis='y', labelsize=16)\n",
    "    ax.tick_params(axis='z', labelsize=16)\n",
    "    \n",
    "    plt.ticklabel_format(style='plain') \n",
    "    fig.subplots_adjust(left=0, right=0.9, bottom=0, top=1)\n",
    "#     fig.tight_layout()\n",
    "    \n",
    "    plt.show()"
   ]
  },
  {
   "cell_type": "code",
   "execution_count": 70,
   "id": "179a915f",
   "metadata": {},
   "outputs": [
    {
     "name": "stdout",
     "output_type": "stream",
     "text": [
      "\u001b[1m79/79\u001b[0m \u001b[32m━━━━━━━━━━━━━━━━━━━━\u001b[0m\u001b[37m\u001b[0m \u001b[1m0s\u001b[0m 2ms/step\n",
      "\u001b[1m79/79\u001b[0m \u001b[32m━━━━━━━━━━━━━━━━━━━━\u001b[0m\u001b[37m\u001b[0m \u001b[1m0s\u001b[0m 2ms/step\n",
      "\u001b[1m79/79\u001b[0m \u001b[32m━━━━━━━━━━━━━━━━━━━━\u001b[0m\u001b[37m\u001b[0m \u001b[1m0s\u001b[0m 2ms/step\n",
      "\u001b[1m79/79\u001b[0m \u001b[32m━━━━━━━━━━━━━━━━━━━━\u001b[0m\u001b[37m\u001b[0m \u001b[1m0s\u001b[0m 2ms/step\n",
      "\u001b[1m79/79\u001b[0m \u001b[32m━━━━━━━━━━━━━━━━━━━━\u001b[0m\u001b[37m\u001b[0m \u001b[1m0s\u001b[0m 2ms/step\n"
     ]
    }
   ],
   "source": [
    "# Plot the 2-way partial dependence plot\n",
    "%matplotlib inline\n",
    "plot_3d(\"Stories\", \"Area\")"
   ]
  },
  {
   "cell_type": "markdown",
   "id": "dd5d6910",
   "metadata": {},
   "source": [
    "# Sobol method for variance-based sensitivity analysis"
   ]
  },
  {
   "cell_type": "code",
   "execution_count": 71,
   "id": "dc3f3f1a",
   "metadata": {},
   "outputs": [],
   "source": [
    "# Generate input values using Saltelli sampler\n",
    "problem = {\n",
    "    'num_vars': X.shape[1],\n",
    "    'names': ['input_var_{}'.format(i) for i in range(X.shape[1])],\n",
    "    'bounds': [[np.min(X_train[:, i]), np.max(X_train[:, i])] for i in range(X.shape[1])],\n",
    "}"
   ]
  },
  {
   "cell_type": "code",
   "execution_count": 72,
   "id": "f502762c",
   "metadata": {},
   "outputs": [
    {
     "name": "stderr",
     "output_type": "stream",
     "text": [
      "C:\\Users\\wanh535\\AppData\\Local\\Temp\\ipykernel_22696\\1744386303.py:3: DeprecationWarning: `salib.sample.saltelli` will be removed in SALib 1.5.1 Please use `salib.sample.sobol`\n",
      "  param_values = saltelli.sample(problem, 2**14, calc_second_order=True)\n"
     ]
    }
   ],
   "source": [
    "# Generate input values using Saltelli sampler\n",
    "np.random.seed(42)\n",
    "param_values = saltelli.sample(problem, 2**14, calc_second_order=True)"
   ]
  },
  {
   "cell_type": "code",
   "execution_count": 73,
   "id": "00c4664c",
   "metadata": {},
   "outputs": [
    {
     "name": "stdout",
     "output_type": "stream",
     "text": [
      "\u001b[1m8192/8192\u001b[0m \u001b[32m━━━━━━━━━━━━━━━━━━━━\u001b[0m\u001b[37m\u001b[0m \u001b[1m11s\u001b[0m 1ms/step\n",
      "\u001b[1m8192/8192\u001b[0m \u001b[32m━━━━━━━━━━━━━━━━━━━━\u001b[0m\u001b[37m\u001b[0m \u001b[1m11s\u001b[0m 1ms/step\n",
      "\u001b[1m8192/8192\u001b[0m \u001b[32m━━━━━━━━━━━━━━━━━━━━\u001b[0m\u001b[37m\u001b[0m \u001b[1m12s\u001b[0m 1ms/step\n",
      "\u001b[1m8192/8192\u001b[0m \u001b[32m━━━━━━━━━━━━━━━━━━━━\u001b[0m\u001b[37m\u001b[0m \u001b[1m11s\u001b[0m 1ms/step\n",
      "\u001b[1m8192/8192\u001b[0m \u001b[32m━━━━━━━━━━━━━━━━━━━━\u001b[0m\u001b[37m\u001b[0m \u001b[1m11s\u001b[0m 1ms/step\n"
     ]
    }
   ],
   "source": [
    "# Evaluate neural network model on input values generated by Saltelli sampler\n",
    "Y_Saltelli1 = model1.predict(param_values)\n",
    "Y_Saltelli1 = Y_Saltelli1.ravel()\n",
    "\n",
    "Y_Saltelli2 = model2.predict(param_values)\n",
    "Y_Saltelli2 = Y_Saltelli2.ravel()\n",
    "\n",
    "Y_Saltelli3 = model3.predict(param_values)\n",
    "Y_Saltelli3 = Y_Saltelli3.ravel()\n",
    "\n",
    "Y_Saltelli4 = model4.predict(param_values)\n",
    "Y_Saltelli4 = Y_Saltelli4.ravel()\n",
    "\n",
    "Y_Saltelli5 = model5.predict(param_values)\n",
    "Y_Saltelli5 = Y_Saltelli5.ravel()\n"
   ]
  },
  {
   "cell_type": "code",
   "execution_count": 74,
   "id": "61f09900",
   "metadata": {},
   "outputs": [],
   "source": [
    "Y_Saltelli = np.vstack([Y_Saltelli1, Y_Saltelli2, Y_Saltelli3, Y_Saltelli4, Y_Saltelli5])"
   ]
  },
  {
   "cell_type": "code",
   "execution_count": 75,
   "id": "b50c668b",
   "metadata": {},
   "outputs": [],
   "source": [
    "Y_Saltelli_mean = np.mean(Y_Saltelli, axis = 0)"
   ]
  },
  {
   "cell_type": "code",
   "execution_count": 76,
   "id": "3506633c",
   "metadata": {},
   "outputs": [
    {
     "name": "stderr",
     "output_type": "stream",
     "text": [
      "C:\\Users\\wanh535\\AppData\\Local\\anaconda3\\envs\\spatial_python\\Lib\\site-packages\\SALib\\util\\__init__.py:274: FutureWarning: unique with argument that is not not a Series, Index, ExtensionArray, or np.ndarray is deprecated and will raise in a future version.\n",
      "  names = list(pd.unique(groups))\n"
     ]
    }
   ],
   "source": [
    "# Model 3 has the highest accuracy, thus it is used for generating second-order Sobol indices\n",
    "Si = sobol.analyze(problem, Y_Saltelli3, calc_second_order = True, conf_level=0.95, num_resamples=1000)"
   ]
  },
  {
   "cell_type": "code",
   "execution_count": null,
   "id": "d9417e4f",
   "metadata": {},
   "outputs": [],
   "source": [
    "# Perform Sobol-based sensitivity analysis\n",
    "Si1 = sobol.analyze(problem, Y_Saltelli1, calc_second_order=True, conf_level=0.95, num_resamples=1000)\n",
    "Si2 = sobol.analyze(problem, Y_Saltelli2, calc_second_order=True, conf_level=0.95, num_resamples=1000)\n",
    "Si3 = sobol.analyze(problem, Y_Saltelli3, calc_second_order=True, conf_level=0.95, num_resamples=1000)\n",
    "Si4 = sobol.analyze(problem, Y_Saltelli4, calc_second_order=True, conf_level=0.95, num_resamples=1000)\n",
    "Si5 = sobol.analyze(problem, Y_Saltelli5, calc_second_order=True, conf_level=0.95, num_resamples=1000)"
   ]
  },
  {
   "cell_type": "code",
   "execution_count": 66,
   "id": "75e713bf",
   "metadata": {},
   "outputs": [
    {
     "data": {
      "image/png": "[encoded data removed]",
      "text/plain": [
       "<Figure size 800x600 with 1 Axes>"
      ]
     },
     "metadata": {},
     "output_type": "display_data"
    }
   ],
   "source": [
    "%matplotlib inline\n",
    "import matplotlib.pyplot as plt\n",
    "from itertools import combinations\n",
    "from numpy import zeros, std\n",
    "\n",
    "S1 = Si['S1']\n",
    "\n",
    "# get the names of the input variables\n",
    "names = predictors.columns.tolist()\n",
    "\n",
    "# set up the figure\n",
    "fig, ax = plt.subplots(figsize=(8, 6))\n",
    "\n",
    "# create a bar plot of the first-order sensitivity indices\n",
    "ax.bar(range(len(names)), S1, tick_label=names)\n",
    "\n",
    "# set the axis labels and title\n",
    "ax.set_ylabel('First-Order Sensitivity Index')\n",
    "ax.set_title('Sobol Sensitivity Analysis Results - First-Order Indices')\n",
    "plt.xticks(rotation= 90)\n",
    "\n",
    "plt.show()\n"
   ]
  },
  {
   "cell_type": "code",
   "execution_count": 67,
   "id": "9944772e",
   "metadata": {},
   "outputs": [
    {
     "data": {
      "text/plain": [
       "<AxesSubplot:title={'center':'Sobol index'}, xlabel='variable'>"
      ]
     },
     "execution_count": 67,
     "metadata": {},
     "output_type": "execute_result"
    },
    {
     "data": {
      "image/png": "[encoded data removed]",
      "text/plain": [
       "<Figure size 640x480 with 1 Axes>"
      ]
     },
     "metadata": {},
     "output_type": "display_data"
    }
   ],
   "source": [
    "%matplotlib inline\n",
    "df_result = pd.DataFrame({\n",
    "    \"variable\" : predictors.columns.tolist(), \n",
    "    \"1st_order\" : Si['S1'],\n",
    "    \"other_order\" : [tot - first for tot, first in zip(Si['ST'],Si['S1'])]\n",
    "  })\n",
    "\n",
    "df_result = df_result.sort_values('1st_order', ascending=False)\n",
    "\n",
    "df_result.plot(x = \"variable\", kind = \"bar\", stacked = True, rot = 90, title = \"Sobol index\")\n"
   ]
  },
  {
   "cell_type": "code",
   "execution_count": 68,
   "id": "ef79cce7",
   "metadata": {},
   "outputs": [
    {
     "data": {
      "image/png": "[encoded data removed]",
      "text/plain": [
       "<Figure size 800x400 with 1 Axes>"
      ]
     },
     "metadata": {},
     "output_type": "display_data"
    }
   ],
   "source": [
    "names = predictors.columns.tolist()\n",
    "Si_filter = {k: Si[k] for k in [\"ST\", \"ST_conf\", \"S1\", \"S1_conf\"]}\n",
    "Si_df = pd.DataFrame(Si_filter, index=names)\n",
    "Si_df = Si_df.sort_values('S1', ascending=False)\n",
    "\n",
    "fig, ax = plt.subplots(1)\n",
    "\n",
    "indices = Si_df[[\"S1\", \"ST\"]]\n",
    "err = Si_df[[\"S1_conf\", \"ST_conf\"]]\n",
    "indices.plot.bar(yerr=err.values.T, ax=ax)\n",
    "fig.set_size_inches(8, 4)\n",
    "\n",
    "legend_names = [\"First-order\", \"Total\"]\n",
    "ax.legend(legend_names, fontsize=12)\n",
    "\n",
    "plt.show()"
   ]
  },
  {
   "cell_type": "code",
   "execution_count": 86,
   "id": "aba60b71",
   "metadata": {},
   "outputs": [],
   "source": [
    "output_path = r'C:\\Users\\wanh535\\OneDrive - PNNL\\Desktop\\ICoM data\\Historic Housing Prices\\Static Multiple Linear Regression\\Manuscript\\New submission\\Sobol\\\\'\n",
    "import pickle\n",
    "# Open a file for writing\n",
    "with open(\"Si_seed1.pickle\", \"wb\") as f:\n",
    "    # Use pickle to serialize and save the dictionary to the file\n",
    "    pickle.dump(Si1, f)\n",
    "with open(\"Si_seed2.pickle\", \"wb\") as f:\n",
    "    # Use pickle to serialize and save the dictionary to the file\n",
    "    pickle.dump(Si2, f)\n",
    "with open(\"Si_seed3.pickle\", \"wb\") as f:\n",
    "    # Use pickle to serialize and save the dictionary to the file\n",
    "    pickle.dump(Si3, f)\n",
    "with open(\"Si_seed4.pickle\", \"wb\") as f:\n",
    "    # Use pickle to serialize and save the dictionary to the file\n",
    "    \n",
    "    pickle.dump(Si4, f)\n",
    "with open(\"Si_seed5.pickle\", \"wb\") as f:\n",
    "    # Use pickle to serialize and save the dictionary to the file\n",
    "    pickle.dump(Si5, f)\n",
    " "
   ]
  },
  {
   "cell_type": "markdown",
   "id": "db8e17ff",
   "metadata": {},
   "source": [
    "# Average across all 5 models to get the Sobol results\n"
   ]
  },
  {
   "cell_type": "code",
   "execution_count": 4,
   "id": "b0254517",
   "metadata": {},
   "outputs": [],
   "source": [
    "import os\n",
    "os.chdir('C:/Users/wanh535/OneDrive - PNNL/Desktop/ICoM data/Historic Housing Prices/Static Multiple Linear Regression/Manuscript/Environment and Planning B/Sobol'\n",
    ")\n",
    "#Read in pickled Si files\n",
    "files_list = []\n",
    "\n",
    "for i in range(1, 6):\n",
    "        file_name = f\"Si_seed{i}.pickle\"\n",
    "        with open(file_name, \"rb\") as f:\n",
    "            files_list.append(pickle.load(f))\n"
   ]
  },
  {
   "cell_type": "code",
   "execution_count": 8,
   "id": "7a091854",
   "metadata": {},
   "outputs": [],
   "source": [
    "#Calculate the mean for S1, S1_conf, ST and ST_conf\n",
    "S1 = np.vstack((files_list[0]['S1'], files_list[1]['S1'], files_list[2]['S1'], files_list[3]['S1'], files_list[4]['S1']))\n",
    "S1_mean = np.mean(S1, axis = 0)\n",
    "\n",
    "S1_conf = np.vstack((files_list[0]['S1_conf'], files_list[1]['S1_conf'], files_list[2]['S1_conf'], files_list[3]['S1_conf'],\n",
    "                     files_list[4]['S1_conf']))\n",
    "S1_conf_mean = np.mean(S1_conf, axis = 0)\n",
    "\n",
    "ST = np.vstack((files_list[0]['ST'], files_list[1]['ST'], files_list[2]['ST'], files_list[3]['ST'], files_list[4]['ST']))\n",
    "ST_mean = np.mean(ST, axis = 0)\n",
    "\n",
    "ST_conf = np.vstack((files_list[0]['ST_conf'], files_list[1]['ST_conf'], files_list[2]['ST_conf'], files_list[3]['ST_conf'],\n",
    "                     files_list[4]['ST_conf']))\n",
    "ST_conf_mean = np.mean(ST_conf, axis = 0)\n"
   ]
  },
  {
   "cell_type": "code",
   "execution_count": 28,
   "id": "fad70d74",
   "metadata": {},
   "outputs": [
    {
     "data": {
      "text/plain": [
       "array([0.39527459, 0.02406652, 0.05423661, 0.02547224, 0.00882085,\n",
       "       0.02703786, 0.15088757])"
      ]
     },
     "execution_count": 28,
     "metadata": {},
     "output_type": "execute_result"
    }
   ],
   "source": [
    "S1_mean"
   ]
  },
  {
   "cell_type": "code",
   "execution_count": 29,
   "id": "188977ab",
   "metadata": {},
   "outputs": [
    {
     "data": {
      "text/plain": [
       "Index(['Area', 'Age', 'Stories', 'Baths', 'LotSize', 'CenterDist', 'Years'], dtype='object')"
      ]
     },
     "execution_count": 29,
     "metadata": {},
     "output_type": "execute_result"
    }
   ],
   "source": [
    "predictors.columns"
   ]
  },
  {
   "cell_type": "code",
   "execution_count": 30,
   "id": "465acf26",
   "metadata": {},
   "outputs": [
    {
     "data": {
      "text/plain": [
       "array([0.39527459, 0.02406652, 0.05423661, 0.02547224, 0.00882085,\n",
       "       0.02703786, 0.15088757])"
      ]
     },
     "execution_count": 30,
     "metadata": {},
     "output_type": "execute_result"
    }
   ],
   "source": [
    "S1_mean"
   ]
  },
  {
   "cell_type": "code",
   "execution_count": 31,
   "id": "11f513e4",
   "metadata": {},
   "outputs": [],
   "source": [
    "df = pd.DataFrame(np.vstack((S1_mean, S1_conf_mean, ST_mean, ST_conf_mean))).T\n",
    "df.index = predictors.columns.tolist()\n",
    "df.columns = [\"S1\", \"S1_conf\", \"ST\", \"ST_conf\"]"
   ]
  },
  {
   "cell_type": "code",
   "execution_count": 33,
   "id": "804968e1",
   "metadata": {},
   "outputs": [],
   "source": [
    "%matplotlib qt\n",
    "df = df.sort_values('S1', ascending=False)\n",
    "\n",
    "fig, ax = plt.subplots(1)\n",
    "\n",
    "indices = df[[\"S1\", \"ST\"]]\n",
    "err = df[[\"S1_conf\", \"ST_conf\"]]\n",
    "indices.plot.bar(yerr=err.values.T, capsize=3, ax=ax)\n",
    "fig.set_size_inches(8, 4)\n",
    "\n",
    "legend_names = [\"First-order\", \"Total-order\"]\n",
    "plt.ylabel(\"Sobol sensitivity index value\")\n",
    "ax.legend(legend_names, fontsize=12)\n",
    "fig.tight_layout()\n",
    "\n",
    "plt.show()\n",
    "\n",
    "\n",
    "fig.savefig('sensitivity_indices.tiff', dpi=300)"
   ]
  },
  {
   "cell_type": "code",
   "execution_count": 34,
   "id": "17e6700f",
   "metadata": {},
   "outputs": [
    {
     "data": {
      "text/html": [
       "<div>\n",
       "<style scoped>\n",
       "    .dataframe tbody tr th:only-of-type {\n",
       "        vertical-align: middle;\n",
       "    }\n",
       "\n",
       "    .dataframe tbody tr th {\n",
       "        vertical-align: top;\n",
       "    }\n",
       "\n",
       "    .dataframe thead th {\n",
       "        text-align: right;\n",
       "    }\n",
       "</style>\n",
       "<table border=\"1\" class=\"dataframe\">\n",
       "  <thead>\n",
       "    <tr style=\"text-align: right;\">\n",
       "      <th></th>\n",
       "      <th>S1</th>\n",
       "      <th>S1_conf</th>\n",
       "      <th>ST</th>\n",
       "      <th>ST_conf</th>\n",
       "    </tr>\n",
       "  </thead>\n",
       "  <tbody>\n",
       "    <tr>\n",
       "      <th>Area</th>\n",
       "      <td>0.3953</td>\n",
       "      <td>0.0158</td>\n",
       "      <td>0.5764</td>\n",
       "      <td>0.0185</td>\n",
       "    </tr>\n",
       "    <tr>\n",
       "      <th>Years</th>\n",
       "      <td>0.1509</td>\n",
       "      <td>0.0098</td>\n",
       "      <td>0.2454</td>\n",
       "      <td>0.0095</td>\n",
       "    </tr>\n",
       "    <tr>\n",
       "      <th>Stories</th>\n",
       "      <td>0.0542</td>\n",
       "      <td>0.0085</td>\n",
       "      <td>0.1434</td>\n",
       "      <td>0.0062</td>\n",
       "    </tr>\n",
       "    <tr>\n",
       "      <th>CenterDist</th>\n",
       "      <td>0.0270</td>\n",
       "      <td>0.0081</td>\n",
       "      <td>0.1407</td>\n",
       "      <td>0.0074</td>\n",
       "    </tr>\n",
       "    <tr>\n",
       "      <th>Baths</th>\n",
       "      <td>0.0255</td>\n",
       "      <td>0.0070</td>\n",
       "      <td>0.1047</td>\n",
       "      <td>0.0044</td>\n",
       "    </tr>\n",
       "    <tr>\n",
       "      <th>Age</th>\n",
       "      <td>0.0241</td>\n",
       "      <td>0.0085</td>\n",
       "      <td>0.1528</td>\n",
       "      <td>0.0073</td>\n",
       "    </tr>\n",
       "    <tr>\n",
       "      <th>LotSize</th>\n",
       "      <td>0.0088</td>\n",
       "      <td>0.0074</td>\n",
       "      <td>0.1128</td>\n",
       "      <td>0.0055</td>\n",
       "    </tr>\n",
       "  </tbody>\n",
       "</table>\n",
       "</div>"
      ],
      "text/plain": [
       "               S1  S1_conf     ST  ST_conf\n",
       "Area       0.3953   0.0158 0.5764   0.0185\n",
       "Years      0.1509   0.0098 0.2454   0.0095\n",
       "Stories    0.0542   0.0085 0.1434   0.0062\n",
       "CenterDist 0.0270   0.0081 0.1407   0.0074\n",
       "Baths      0.0255   0.0070 0.1047   0.0044\n",
       "Age        0.0241   0.0085 0.1528   0.0073\n",
       "LotSize    0.0088   0.0074 0.1128   0.0055"
      ]
     },
     "execution_count": 34,
     "metadata": {},
     "output_type": "execute_result"
    }
   ],
   "source": [
    "pd.set_option('display.float_format', lambda x: '%.4f' % x)\n",
    "df"
   ]
  },
  {
   "cell_type": "code",
   "execution_count": 71,
   "id": "1948ce89",
   "metadata": {},
   "outputs": [],
   "source": [
    "#Seed 4 is the optimal ANNs among the 5, so it is used for second-order Sobol plot\n",
    "S2 = Si['S2']\n",
    "S2 = S2[~np.isnan(S2)]\n",
    "S2_conf = Si['S2_conf']\n",
    "S2_conf = S2_conf[~np.isnan(S2_conf)]\n",
    "df2 = pd.DataFrame(np.vstack((S2, S2_conf))).T\n",
    "from itertools import combinations\n",
    "df2.index = list(combinations(predictors.columns.tolist(), 2))\n",
    "df2.columns = [\"S2\", \"S2_conf\"]"
   ]
  },
  {
   "cell_type": "code",
   "execution_count": 73,
   "id": "b35934ce",
   "metadata": {},
   "outputs": [],
   "source": [
    "%matplotlib inline\n",
    "df2 = df2.sort_values('S2', ascending=False)\n",
    "labels = [f\"{pair[0]}-{pair[1]}\" for pair in df2.index]\n",
    "\n",
    "fig, ax = plt.subplots(1)\n",
    "\n",
    "indices = df2[[\"S2\"]]\n",
    "err = df2[[\"S2_conf\"]]\n",
    "\n",
    "bars = indices.plot.bar(yerr=err.values.T, capsize=3, ax=ax)\n",
    "for i in np.array([0, 1, 2]):\n",
    "    bars.get_children()[i].set_color('red')\n",
    "\n",
    "fig.set_size_inches(8, 4)\n",
    "\n",
    "color_patches = [plt.Rectangle((0, 0), 1, 1, fc='red'), plt.Rectangle((0, 0), 1, 1, fc=bars.get_children()[3].get_facecolor())]\n",
    "\n",
    "# Set the legend with color labels\n",
    "legend_names = [\"Statistically significant\", \"Not statistically significant\"]\n",
    "ax.legend(color_patches, legend_names, fontsize=12)\n",
    "\n",
    "plt.ylabel(\"Sobol sensitivity index value\")\n",
    "ax.set_xticklabels(labels)\n",
    "\n",
    "fig.tight_layout()\n",
    "\n",
    "plt.show()\n",
    "\n",
    "fig.savefig('sensitivity_indices.tiff', dpi=300)"
   ]
  }
 ],
 "metadata": {
  "kernelspec": {
   "display_name": "spatial_python",
   "language": "python",
   "name": "spatial_python"
  },
  "language_info": {
   "codemirror_mode": {
    "name": "ipython",
    "version": 3
   },
   "file_extension": ".py",
   "mimetype": "text/x-python",
   "name": "python",
   "nbconvert_exporter": "python",
   "pygments_lexer": "ipython3",
   "version": "3.12.4"
  }
 },
 "nbformat": 4,
 "nbformat_minor": 5
}
